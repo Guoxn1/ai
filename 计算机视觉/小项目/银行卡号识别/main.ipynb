{
 "cells": [
  {
   "cell_type": "markdown",
   "metadata": {},
   "source": [
    "# 1 概述\n",
    "进行银行卡号识别。我们在img目录下，存有几个银行卡的照片以及一个对照数字图。<br>\n",
    "基本的实现思路是模板匹配，应当分以下几步进行实施：<br>\n",
    "1.读取模板图像，提取每个数字的轮廓，作为轮廓要resize大小，然后和每个数字进行对应。<br>\n",
    "2.读取银行卡图像，先找到大的轮廓，定位到卡号的位置，再进行轮廓检测得到每个数字，和模板数字特征匹配，得到最大的那个。<br>\n",
    "使用到的技术：<br>\n",
    "图像处理需要转换为灰度图像，并且需要开闭运算得到数字区域、sobel找轮廓，模板匹配等。"
   ]
  },
  {
   "cell_type": "code",
   "execution_count": 1,
   "metadata": {},
   "outputs": [],
   "source": [
    "import numpy as np\n",
    "# 可以用命令行来运行\n",
    "import argparse\n",
    "import cv2\n",
    "\n",
    "# python script.py -i input_image.jpg -t template_image.jpg\n",
    "# 这样就可以使用命令行进行运行, jupyter会报错，可以先注释。\n",
    "# ap = argparse.ArgumentParser()\n",
    "# ap.add_argument(\"-i\", \"--image\", required=True,\n",
    "# \thelp=\"path to input image\")\n",
    "# ap.add_argument(\"-t\", \"--template\", required=True,\n",
    "# \thelp=\"path to template OCR-A image\")\n",
    "# args = vars(ap.parse_args())"
   ]
  },
  {
   "cell_type": "code",
   "execution_count": 2,
   "metadata": {},
   "outputs": [],
   "source": [
    "# 也可以顺带识别信用卡类型，根据第一个银行卡号第一个数字识别\n",
    "FIRST_NUM = {\n",
    "    \"3\":\"American Express\",\n",
    "    \"4\":\"Visa\",\n",
    "    \"5\":\"Mastercard\",\n",
    "    \"6\":\"Discover Card\"\n",
    "}\n",
    "\n",
    "# 定义一个画图的函数\n",
    "def cv_show(img,name=\"img\"):\n",
    "    cv2.imshow(name,img)\n",
    "    cv2.waitKey(0)\n",
    "    cv2.destroyAllWindows()\n",
    "\n"
   ]
  },
  {
   "cell_type": "markdown",
   "metadata": {},
   "source": [
    "# 2 处理模板图像"
   ]
  },
  {
   "cell_type": "code",
   "execution_count": 4,
   "metadata": {},
   "outputs": [],
   "source": [
    "img = cv2.imread(\"img/ocr_a_reference.png\")\n",
    "cv_show(img)\n",
    "# 灰度图\n",
    "ref = cv2.cvtColor(img, cv2.COLOR_BGR2GRAY)\n",
    "cv_show(ref)\n",
    "# 二值图像\n",
    "ref = cv2.threshold(ref, 10, 255, cv2.THRESH_BINARY_INV)[1]\n",
    "cv_show(ref)\n"
   ]
  },
  {
   "cell_type": "code",
   "execution_count": 5,
   "metadata": {},
   "outputs": [],
   "source": [
    "refCnts, hierarchy = cv2.findContours(ref.copy(), cv2.RETR_EXTERNAL,cv2.CHAIN_APPROX_SIMPLE)\n",
    "\n",
    "cv2.drawContours(img,refCnts,-1,(0,0,255),3) \n",
    "cv_show(img)"
   ]
  },
  {
   "cell_type": "code",
   "execution_count": 6,
   "metadata": {},
   "outputs": [],
   "source": [
    "# 找到10个数字 从左到右找\n",
    "def sort_contours(refCnts, method):\n",
    "    reverse = False\n",
    "    i=0\n",
    "    if method == \"right-to-left\" or method == \"bottom-to-top\":\n",
    "        reverse = True\n",
    "\n",
    "    if method == \"top-to-bottom\" or method == \"bottom-to-top\":\n",
    "        i = 1\n",
    "    boundingBoxes = [cv2.boundingRect(c) for c in refCnts]\n",
    "    #key参数指定了排序的关键字，即根据元组中的第二个元素 (b[1]) 的第i个索引位置的值进行排序。\n",
    "    # 此处按照boundingBoxes的最小locx值进行排序\n",
    "    (refCnts,boundingBoxes) = zip(*sorted(zip(refCnts,boundingBoxes),\n",
    "                                          key=lambda b: b[1][i],reverse=reverse\n",
    "                                          ))\n",
    "    return refCnts, boundingBoxes\n",
    "# 需要调整图像大小\n",
    "def myresize(image, width=None, height=None, inter=cv2.INTER_AREA):\n",
    "    dim = None\n",
    "    (h, w) = image.shape[:2]\n",
    "    if width is None and height is None:\n",
    "        return image\n",
    "    if width is None:\n",
    "        r = height / float(h)\n",
    "        dim = (int(w * r), height)\n",
    "    else:\n",
    "        r = width / float(w)\n",
    "        dim = (width, int(h * r))\n",
    "    resized = cv2.resize(image, dim, interpolation=inter)\n",
    "    return resized"
   ]
  },
  {
   "cell_type": "code",
   "execution_count": 7,
   "metadata": {},
   "outputs": [],
   "source": [
    "refCnts = sort_contours(refCnts,method=\"left-to-right\")[0]\n",
    "digits = {}\n",
    "for (i,c) in enumerate(refCnts):\n",
    "    (x,y,w,h) = cv2.boundingRect(c)\n",
    "    roi = ref[y:y + h, x:x + w]\n",
    "    roi = cv2.resize(roi, (57, 88))\n",
    "    # 模板和数字映射\n",
    "    digits[i] = roi\n",
    "\n"
   ]
  },
  {
   "cell_type": "markdown",
   "metadata": {},
   "source": [
    "# 3 处理银行卡图像"
   ]
  },
  {
   "cell_type": "code",
   "execution_count": 8,
   "metadata": {},
   "outputs": [],
   "source": [
    "# 对输入图像进行处理\n",
    "# 初始化卷积核\n",
    "# 九列三行\n",
    "rectKernel = cv2.getStructuringElement(cv2.MORPH_RECT,(9,3))\n",
    "sqKernel = cv2.getStructuringElement(cv2.MORPH_RECT,(6,6))\n",
    "image = cv2.imread(\"img/credit_card_01.png\")\n",
    "cv_show(image)\n",
    "image = myresize(image,width=300)\n",
    "gray = cv2.cvtColor(image,cv2.COLOR_RGB2GRAY)\n",
    "cv_show(gray)\n"
   ]
  },
  {
   "cell_type": "code",
   "execution_count": 9,
   "metadata": {},
   "outputs": [],
   "source": [
    "# 数字区域位于明亮区，是否还记得顶帽操作\n",
    "# 顶帽操作可以放大细节，可以用于图像增强,凸显更明亮的区域\n",
    "tophat = cv2.morphologyEx(gray,cv2.MORPH_TOPHAT,rectKernel)\n",
    "cv_show(tophat)\n",
    "\n",
    "\n"
   ]
  },
  {
   "cell_type": "code",
   "execution_count": 10,
   "metadata": {},
   "outputs": [],
   "source": [
    "# 采用均衡操作。\n",
    "clahe = cv2.createCLAHE(clipLimit=2.0,tileGridSize=(8,8))\n",
    "res = clahe.apply(tophat)\n",
    "\n",
    "cv_show(res)"
   ]
  },
  {
   "cell_type": "code",
   "execution_count": 11,
   "metadata": {},
   "outputs": [],
   "source": [
    "# 图像预处理完后进行确定轮廓\n",
    "# 常见的 scharr  sobel lapupasi\n",
    "# 且细腻度逐渐降低\n",
    "# 也可以采用canny  是拉普拉斯的改良版\n"
   ]
  },
  {
   "cell_type": "code",
   "execution_count": 12,
   "metadata": {},
   "outputs": [],
   "source": [
    "\n",
    "canny = cv2.Canny(res,150,250)\n",
    "cv_show(canny)"
   ]
  },
  {
   "cell_type": "code",
   "execution_count": 13,
   "metadata": {},
   "outputs": [],
   "source": [
    "# 先识别出四个数字块\n",
    "# 通过闭操作（先膨胀，再腐蚀）将数字连在一起\n",
    "canny = cv2.morphologyEx(canny,cv2.MORPH_CLOSE, rectKernel)\n",
    "cv_show(canny)\n",
    "# 进行过闭操作后，二值化处理, 可能存在不是0或255的值\n",
    "thresh = cv2.threshold(canny,0,255,cv2.THRESH_BINARY|cv2.THRESH_OTSU)[1]\n",
    "# 有很多空白，想办法填充，填充就用扩张操作\n",
    "\n",
    "# 再来个闭操作扩充白色区域\n",
    "thresh = cv2.morphologyEx(thresh,cv2.MORPH_CLOSE,sqKernel)\n",
    "cv_show(thresh)\n"
   ]
  },
  {
   "cell_type": "code",
   "execution_count": 14,
   "metadata": {},
   "outputs": [],
   "source": [
    "# 计算新图像的轮廓 近似成长方形\n",
    "threshCnts, hierarchy = cv2.findContours(thresh.copy(), cv2.RETR_EXTERNAL,\n",
    "\tcv2.CHAIN_APPROX_SIMPLE)\n",
    "cnts = threshCnts\n",
    "cur_img = image.copy()\n",
    "cv2.drawContours(cur_img,cnts,-1,(0,0,255),2)\n",
    "cv_show(cur_img)"
   ]
  },
  {
   "cell_type": "code",
   "execution_count": 15,
   "metadata": {},
   "outputs": [],
   "source": [
    "# 计算轮廓，寻找出我们希望找出的内容框\n",
    "locs = []\n",
    "for (i,c) in enumerate(cnts):\n",
    "    (x,y,w,h) = cv2.boundingRect(c)\n",
    "    ar = w/(float(h))\n",
    "    #根据宽高比来确定\n",
    "    if ar > 2.5 and ar < 4.0:\n",
    "        if (w > 40 and w < 55) and (h > 10 and h < 20):\n",
    "\t\t\t#符合的留下来\n",
    "            locs.append((x, y, w, h))\n",
    "locs = sorted(locs, key=lambda x:x[0])\n",
    "\n"
   ]
  },
  {
   "cell_type": "code",
   "execution_count": 16,
   "metadata": {},
   "outputs": [
    {
     "name": "stdout",
     "output_type": "stream",
     "text": [
      "Credit Card Type: Visa\n",
      "Credit Card #: 4000123456789010\n"
     ]
    }
   ],
   "source": [
    "output = []\n",
    "# 遍历轮廓中的每一个数字\n",
    "for (i,(gx,gy,gw,gh)) in enumerate(locs):\n",
    "    groupOutput = []\n",
    "    group = gray[gy-5:gy+gh+5,gx-5:gx+gw+5]\n",
    "    cv_show(group)\n",
    "    # 二值化处理\n",
    "    group = cv2.threshold(group, 0, 255,\n",
    "\t\tcv2.THRESH_BINARY | cv2.THRESH_OTSU)[1]\n",
    "    cv_show(group)\n",
    "    # 对于每一个数字块，有四个数字\n",
    "    # 分别计算每个数字块的数字轮廓，得到的数组再进行比较\n",
    "    dicConts,hierarchy = cv2.findContours(group.copy(), cv2.RETR_EXTERNAL,\n",
    "\t\tcv2.CHAIN_APPROX_SIMPLE)\n",
    "    dicConts = sort_contours(dicConts,method=\"left-to-right\")[0]\n",
    "    for j in dicConts:\n",
    "        # 凹凸不平 换成矩形\n",
    "        (x,y,w,h) = cv2.boundingRect(j)\n",
    "        # 计算矩形区域\n",
    "        roi = group[y:y+h,x:x+w]\n",
    "        roi = cv2.resize(roi,(57,88))\n",
    "        cv_show(roi)\n",
    "        scores = []\n",
    "        # 开始匹配，计算匹配得分，输出得分最高的\n",
    "        for (digit,digroi) in digits.items():\n",
    "            result = cv2.matchTemplate(roi,digroi,method=cv2.TM_CCOEFF_NORMED)\n",
    "            (_, score, _, _) = cv2.minMaxLoc(result)\n",
    "\n",
    "            scores.append(score)\n",
    "        groupOutput.append(str(np.argmax(scores)))\n",
    "    \n",
    "    cv2.rectangle(image, (gx - 5, gy - 5),\n",
    "\t\t(gx + gw + 5, gy + gh + 5), (0, 0, 255), 1)\n",
    "    cv2.putText(image, \"\".join(groupOutput), (gx, gy - 15),\n",
    "\t\tcv2.FONT_HERSHEY_SIMPLEX, 0.65, (0, 0, 255), 2)\n",
    "    output.extend(groupOutput)  \n",
    "print(\"Credit Card Type: {}\".format(FIRST_NUM[output[0]]))\n",
    "print(\"Credit Card #: {}\".format(\"\".join(output)))\n",
    "cv_show(image)"
   ]
  }
 ],
 "metadata": {
  "kernelspec": {
   "display_name": "pytouch_11.6",
   "language": "python",
   "name": "python3"
  },
  "language_info": {
   "codemirror_mode": {
    "name": "ipython",
    "version": 3
   },
   "file_extension": ".py",
   "mimetype": "text/x-python",
   "name": "python",
   "nbconvert_exporter": "python",
   "pygments_lexer": "ipython3",
   "version": "3.9.17"
  }
 },
 "nbformat": 4,
 "nbformat_minor": 2
}
