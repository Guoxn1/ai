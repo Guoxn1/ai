{
 "cells": [
  {
   "cell_type": "code",
   "execution_count": 125,
   "metadata": {},
   "outputs": [],
   "source": [
    "%matplotlib inline\n",
    "import random\n",
    "import torch\n",
    "from d2l import torch as d2l\n"
   ]
  },
  {
   "cell_type": "code",
   "execution_count": 126,
   "metadata": {},
   "outputs": [],
   "source": [
    "# 构造一个数据集 ,好处是 知道真实的w和b\n",
    "# w = [2,5.6] 、 b = 1.8 和噪声项c生成数据集和标签\n",
    "# y = Xw + b + c\n",
    "\n",
    "def synthetic_data(w, b, num_examples):  #@save\n",
    "    \"\"\"生成y=Xw+b+噪声\"\"\"\n",
    "    X = torch.normal(0, 1, (num_examples, len(w)))\n",
    "    y = torch.matmul(X, w) + b\n",
    "    y += torch.normal(0, 0.01, y.shape)\n",
    "    return X, y.reshape((-1, 1))\n",
    "\n",
    "def line(x,w,b):\n",
    "    return torch.matmul(x, w) + b\n",
    "\n",
    "def sqare_loss(y_hat,y):\n",
    "    return (y_hat - y.reshape(y_hat.shape)) ** 2 / 2\n",
    "def load_data( features, labels,batch_size):\n",
    "    num_examples = len(features)\n",
    "    indices = list(range(num_examples))\n",
    "    # 这些样本是随机读取的，没有特定的顺序\n",
    "    random.shuffle(indices)\n",
    "    for i in range(0, num_examples, batch_size):\n",
    "        batch_indices = torch.tensor(\n",
    "            indices[i: min(i + batch_size, num_examples)])\n",
    "        yield features[batch_indices], labels[batch_indices]\n"
   ]
  },
  {
   "cell_type": "code",
   "execution_count": 127,
   "metadata": {},
   "outputs": [],
   "source": [
    "def train_data():\n",
    "    # W = torch.tensor([2,5.6])\n",
    "    # b = 1.8\n",
    "    # features,labels = synthetic_data(W,b,1000)\n",
    "    # return features,labels\n",
    "    true_w = torch.tensor([2, -3.4])\n",
    "    true_b = 4.2\n",
    "    features, labels = synthetic_data(true_w, true_b, 1000)\n",
    "    return features,labels\n"
   ]
  },
  {
   "cell_type": "code",
   "execution_count": 141,
   "metadata": {},
   "outputs": [],
   "source": [
    "def sgd(params,lr,batch_size):\n",
    "    with torch.no_grad():\n",
    "        for param in params:\n",
    "            param -= lr * param.grad / batch_size\n",
    "            param.grad.zero_()"
   ]
  },
  {
   "cell_type": "code",
   "execution_count": 144,
   "metadata": {},
   "outputs": [],
   "source": [
    "def train():\n",
    "    # 定义一些超参数\n",
    "    batch_size = 10\n",
    "    lr  = 0.02\n",
    "    net = line\n",
    "    loss = sqare_loss\n",
    "    epochs = 5\n",
    "    # 获取之前创建的数据\n",
    "    features,labels = train_data()\n",
    "    data_loader = load_data(features,labels,batch_size)\n",
    "    # 创建线形层的参数\n",
    "    w = torch.normal(0, 0.01, size=(2,1), requires_grad=True)\n",
    "    b = torch.zeros(1, requires_grad=True)\n",
    "\n",
    "    #开始每一层的训练\n",
    "    for epoch in range(epochs):\n",
    "        # 这里一定要使用函数load_data，因为要保证每次加载的数据不一样，如果一样了，那么梯度没变化\n",
    "        for X,y in load_data(features,labels,batch_size):\n",
    "            l = loss(net(X,w,b),y)\n",
    "            l.sum().backward()\n",
    "            sgd([w,b],lr,batch_size)\n",
    "            \n",
    "        with torch.no_grad():\n",
    "            test_loss = loss(net(features,w,b),labels)\n",
    "            print(f\"第 {epoch+1}次 进行训练，损失值是： {test_loss.mean()}\")\n",
    "            \n"
   ]
  },
  {
   "cell_type": "code",
   "execution_count": 145,
   "metadata": {},
   "outputs": [
    {
     "name": "stdout",
     "output_type": "stream",
     "text": [
      "第 1次 进行训练，损失值是： 1.6128489971160889\n",
      "第 2次 进行训练，损失值是： 6.294341564178467\n",
      "第 3次 进行训练，损失值是： 29.576749801635742\n",
      "第 4次 进行训练，损失值是： 5.830108165740967\n",
      "第 5次 进行训练，损失值是： 4.598476886749268\n"
     ]
    }
   ],
   "source": [
    "train()"
   ]
  },
  {
   "cell_type": "code",
   "execution_count": null,
   "metadata": {},
   "outputs": [],
   "source": []
  }
 ],
 "metadata": {
  "kernelspec": {
   "display_name": "pytouch_11.6",
   "language": "python",
   "name": "python3"
  },
  "language_info": {
   "codemirror_mode": {
    "name": "ipython",
    "version": 3
   },
   "file_extension": ".py",
   "mimetype": "text/x-python",
   "name": "python",
   "nbconvert_exporter": "python",
   "pygments_lexer": "ipython3",
   "version": "3.9.17"
  }
 },
 "nbformat": 4,
 "nbformat_minor": 2
}
