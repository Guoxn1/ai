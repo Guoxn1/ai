{
 "cells": [
  {
   "cell_type": "markdown",
   "metadata": {},
   "source": [
    "# 1 Tensorboard的使用\n",
    "tensorboard是一个web端的可视化工具，可以展示函数、图像等，方便我们观察程序运行的过程和结果。\n",
    "<br>需要在目录下创建一个logs文件，然后定义log存放在这里，所有的tensorboard使用的时候需要从这儿拿。"
   ]
  },
  {
   "cell_type": "code",
   "execution_count": 1,
   "metadata": {},
   "outputs": [],
   "source": [
    "from torch.utils.tensorboard import SummaryWriter\n",
    "\n",
    "# scaler的使用\n",
    "writer = SummaryWriter(log_dir=\"logs\")\n",
    "\n",
    "for i in range(10):\n",
    "    writer.add_scalar(\"line\",2*i+6,i,0)\n",
    "\n"
   ]
  },
  {
   "cell_type": "code",
   "execution_count": 6,
   "metadata": {},
   "outputs": [],
   "source": [
    "# 写入一些图像\n",
    "from PIL import Image\n",
    "import numpy as np\n",
    "\n",
    "image = Image.open(\"imgs/QQ图片20230801104634.jpg\")\n",
    "image_arr = np.array(image)\n",
    "\n",
    "writer.add_image(\"test\",image_arr,1,dataformats=\"HWC\")\n",
    "\n",
    "image = Image.open(\"imgs/2.jpg\")\n",
    "image_arr = np.array(image)\n",
    "writer.add_image(\"test\",image_arr,2,dataformats=\"HWC\")\n",
    "\n"
   ]
  },
  {
   "cell_type": "markdown",
   "metadata": {},
   "source": [
    "# transfrom的使用及常见的transform\n",
    "\n",
    "主要是对图形，或者是矩阵进行变换，包括改变大小等。"
   ]
  },
  {
   "cell_type": "code",
   "execution_count": 1,
   "metadata": {},
   "outputs": [],
   "source": [
    "from torchvision import transforms\n",
    "from PIL import Image\n",
    "from torch.utils.tensorboard import SummaryWriter\n",
    "# 转换类型 ToTensor\n",
    "\n",
    "writer1 = SummaryWriter(log_dir=\"logs\")\n",
    "img = Image.open(\"imgs/2.jpg\")\n",
    "\n",
    "tensor_trans = transforms.ToTensor()\n",
    "tensor_img = tensor_trans(img)\n",
    "\n",
    "writer1.add_image(\"test\",tensor_img)\n"
   ]
  },
  {
   "cell_type": "code",
   "execution_count": 2,
   "metadata": {},
   "outputs": [],
   "source": [
    "# Normalize\n",
    "trans_norm = transforms.Normalize([0.5,0.5,0.5],[0.5,0.5,0.5])\n",
    "img_norm = trans_norm(tensor_img)\n",
    "writer1.add_image(\"normalize\",img_norm)\n"
   ]
  },
  {
   "cell_type": "code",
   "execution_count": 4,
   "metadata": {},
   "outputs": [
    {
     "name": "stderr",
     "output_type": "stream",
     "text": [
      "c:\\Users\\Guoxn\\.conda\\envs\\pytouch_11.6\\lib\\site-packages\\torchvision\\transforms\\functional.py:1603: UserWarning: The default value of the antialias parameter of all the resizing transforms (Resize(), RandomResizedCrop(), etc.) will change from None to True in v0.17, in order to be consistent across the PIL and Tensor backends. To suppress this warning, directly pass antialias=True (recommended, future default), antialias=None (current default, which means False for Tensors and True for PIL), or antialias=False (only works on Tensors - PIL will still use antialiasing). This also applies if you are using the inference transforms from the models weights: update the call to weights.transforms(antialias=True).\n",
      "  warnings.warn(\n"
     ]
    }
   ],
   "source": [
    "# Resize\n",
    "tran_resize = transforms.Resize((512,512))\n",
    "img_resize = tran_resize(tensor_img)\n",
    "writer1.add_image(\"resize img\",img_resize)"
   ]
  },
  {
   "cell_type": "code",
   "execution_count": 6,
   "metadata": {},
   "outputs": [
    {
     "name": "stderr",
     "output_type": "stream",
     "text": [
      "c:\\Users\\Guoxn\\.conda\\envs\\pytouch_11.6\\lib\\site-packages\\torchvision\\transforms\\functional.py:1603: UserWarning: The default value of the antialias parameter of all the resizing transforms (Resize(), RandomResizedCrop(), etc.) will change from None to True in v0.17, in order to be consistent across the PIL and Tensor backends. To suppress this warning, directly pass antialias=True (recommended, future default), antialias=None (current default, which means False for Tensors and True for PIL), or antialias=False (only works on Tensors - PIL will still use antialiasing). This also applies if you are using the inference transforms from the models weights: update the call to weights.transforms(antialias=True).\n",
      "  warnings.warn(\n"
     ]
    }
   ],
   "source": [
    "# Compose  存储操作序列\n",
    "tran_resize2= transforms.Resize(512)\n",
    "trans_Com = transforms.Compose([tran_resize2,tensor_trans])\n",
    "img_resize2 = trans_Com(img)\n",
    "writer1.add_image(\"Resize Com\",img_resize2,1)\n",
    " "
   ]
  },
  {
   "cell_type": "code",
   "execution_count": 7,
   "metadata": {},
   "outputs": [],
   "source": [
    "# RandomCrop\n",
    "trans_random = transforms.RandomCrop(256)\n",
    "trans_Com2 = transforms.Compose([trans_random,tensor_trans])\n",
    "\n",
    "for i in  range(10):\n",
    "    rand_img = trans_Com2(img)\n",
    "    writer1.add_image(\"randomw\",rand_img,i)\n",
    "    \n"
   ]
  }
 ],
 "metadata": {
  "kernelspec": {
   "display_name": "pytouch_11.6",
   "language": "python",
   "name": "python3"
  },
  "language_info": {
   "codemirror_mode": {
    "name": "ipython",
    "version": 3
   },
   "file_extension": ".py",
   "mimetype": "text/x-python",
   "name": "python",
   "nbconvert_exporter": "python",
   "pygments_lexer": "ipython3",
   "version": "3.9.17"
  }
 },
 "nbformat": 4,
 "nbformat_minor": 2
}
