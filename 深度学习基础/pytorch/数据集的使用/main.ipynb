{
 "cells": [
  {
   "cell_type": "markdown",
   "metadata": {},
   "source": [
    "# 1 数据集的引入"
   ]
  },
  {
   "cell_type": "code",
   "execution_count": 1,
   "metadata": {},
   "outputs": [
    {
     "name": "stdout",
     "output_type": "stream",
     "text": [
      "Downloading https://www.cs.toronto.edu/~kriz/cifar-10-python.tar.gz to ./dataset\\cifar-10-python.tar.gz\n"
     ]
    },
    {
     "name": "stderr",
     "output_type": "stream",
     "text": [
      "30.0%"
     ]
    }
   ],
   "source": [
    "# 可以直接下载pytorch的数据集\n",
    "import torchvision\n",
    "from torch.utils.tensorboard import SummaryWriter\n",
    "\n",
    "dataset_transfrom = torchvision.transforms.Compose([torchvision.transforms.ToTensor()])\n",
    "\n",
    "train_set = torchvision.datasets.CIFAR10(root=\"./dataset\",train=True,transform=dataset_transfrom,download=False)\n",
    "test_set = torchvision.datasets.CIFAR10(root=\"./dataset\",train=False,transform=dataset_transfrom,download=False)\n",
    "\n",
    "# 展示图片\n",
    "writer = SummaryWriter(\"logs\")\n",
    "for i in range(10):\n",
    "    img,target = train_set[i]\n",
    "    writer.add_image(\"test\",img,i)\n",
    "writer.close()\n",
    "\n"
   ]
  },
  {
   "cell_type": "markdown",
   "metadata": {},
   "source": [
    "# 2 dataloader"
   ]
  },
  {
   "cell_type": "code",
   "execution_count": null,
   "metadata": {},
   "outputs": [],
   "source": [
    "# 使用dataloader加载数据\n",
    "import torchvision\n",
    "\n",
    "from torch.utils.data import DataLoader\n",
    "from torch.utils.tensorboard import SummaryWriter\n",
    "\n",
    "test_loader = DataLoader(dataset=test_set,batch_size=64,shuffle=True,num_workers=0,drop_last=True)\n",
    "\n",
    "writer = SummaryWriter(\"logs\")\n",
    "\n",
    "for data in test_loader:\n",
    "    step = 0\n",
    "    imgs,targets = data\n",
    "    writer.add_images(\"test1\",imgs,step)\n",
    "    step = step +1 \n",
    "\n",
    "writer.close()\n"
   ]
  }
 ],
 "metadata": {
  "kernelspec": {
   "display_name": "pytouch_11.6",
   "language": "python",
   "name": "python3"
  },
  "language_info": {
   "codemirror_mode": {
    "name": "ipython",
    "version": 3
   },
   "file_extension": ".py",
   "mimetype": "text/x-python",
   "name": "python",
   "nbconvert_exporter": "python",
   "pygments_lexer": "ipython3",
   "version": "3.9.17"
  }
 },
 "nbformat": 4,
 "nbformat_minor": 2
}
