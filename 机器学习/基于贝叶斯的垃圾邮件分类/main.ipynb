{
 "cells": [
  {
   "cell_type": "code",
   "execution_count": 3,
   "metadata": {},
   "outputs": [],
   "source": [
    "import os\n",
    "import re\n",
    "from sklearn.feature_extraction.text import ENGLISH_STOP_WORDS\n",
    "\n",
    "# 定义一个函数，对文件中的内容进行预处理，比如删除一些值\n",
    "def clear_content(content):\n",
    "    # 只保留英文字符\n",
    "    filtered_content = re.sub(r'[^a-zA-Z\\s]', '', content)\n",
    "    filtered_content = filtered_content.lower()\n",
    "    # 根据换行，将其分成一个一个列表  或者把其中换行 制表符 改为空格\n",
    "    filtered_content = filtered_content.replace(\"\\n\",\" \")\n",
    "    filtered_content = filtered_content.replace(\"\\t\",\" \")\n",
    "    # 切分成单词\n",
    "    filtered_content_list = filtered_content.split(\" \")\n",
    "    filtered_content_without_stopwords = [word for word in filtered_content_list if word not in list(ENGLISH_STOP_WORDS)]\n",
    "    filtered_content_without_stopwords = [word for word in filtered_content_without_stopwords if word.strip() != \"\"]\n",
    "    return filtered_content_without_stopwords\n",
    "\n",
    "\n",
    "# 定义一个函数，对输入的文件夹的文件进行遍历\n",
    "def preprocess(folderpath):\n",
    "    folderpath = folderpath\n",
    "\n",
    "    email_list = []\n",
    "    for filename in os.listdir(folderpath):\n",
    "        content = \"\"\n",
    "        file_path = os.path.join(folderpath,filename)\n",
    "        with open(file_path,mode=\"r\",encoding=\"gbk\") as f:\n",
    "            content = f.read()\n",
    "        content = clear_content(content)\n",
    "        \n",
    "        email_list.append(content)\n",
    "    return email_list\n",
    "\n"
   ]
  },
  {
   "cell_type": "code",
   "execution_count": 4,
   "metadata": {},
   "outputs": [
    {
     "name": "stdout",
     "output_type": "stream",
     "text": [
      "[['codeine', 'mg', 'visa', 'codeine', 'methylmorphine', 'narcotic', 'opioid', 'pain', 'reliever', 'mg', 'mg', 'pills', 'mg', 'mg', 'mg', 'visa'], ['ordercializviagra', 'online', 'save', 'nline', 'pharmacy', 'noprescription', 'required', 'buy', 'canadian', 'drugs', 'wholesale', 'prices', 'save', 'fdaapproved', 'drugs', 'superb', 'quality', 'drugs', 'accept', 'major', 'credit', 'cards'], ['gain', 'incredibe', 'gains', 'length', 'inches', 'yourpenis', 'permanantly', 'amazing', 'increase', 'thickness', 'yourpenis', 'betterejacuation', 'control', 'experience', 'rockharderecetions', 'explosive', 'intenseorgasns', 'increase', 'volume', 'ofejacuate', 'doctor', 'designed', 'endorsed', 'herbal', 'natural', 'safe', 'proven', 'naturalpenisenhancement', 'works', 'moneyback', 'guaranteeed'], ['buy', 'ambiem', 'zolpidem', 'mgmg', 'pill', 'pills', 'x', 'mg', 'pills', 'x', 'mg', 'pills', 'x', 'mg', 'pills', 'x', 'mg', 'pills', 'x', 'mg'], ['ordercializviagra', 'online', 'save', 'nline', 'pharmacy', 'noprescription', 'required', 'buy', 'canadian', 'drugs', 'wholesale', 'prices', 'save', 'fdaapproved', 'drugs', 'superb', 'quality', 'drugs', 'accept', 'major', 'credit', 'cards', 'order', 'today'], ['buyviagra', 'mg', 'mg', 'mg', 'brandviagra', 'femaleviagra', 'pill', 'viagranoprescription', 'needed', 'certified', 'canadian', 'pharmacy', 'buy', 'accept', 'visa', 'amex', 'echeck', 'worldwide', 'delivery'], ['gain', 'incredibe', 'gains', 'length', 'inches', 'yourpenis', 'permanantly', 'amazing', 'increase', 'thickness', 'yourpenis', 'betterejacuation', 'control', 'experience', 'rockharderecetions', 'explosive', 'intenseorgasns', 'increase', 'volume', 'ofejacuate', 'doctor', 'designed', 'endorsed', 'herbal', 'natural', 'safe'], ['home', 'based', 'business', 'opportunity', 'knocking', 'door', 'don', 'rude', 'let', 'chance', 'earn', 'great', 'income', 'financial', 'life', 'transformed', 'learn', 'success', 'work', 'home', 'finder', 'experts'], ['codeine', 'competitive', 'price', 'net', 'codeine', 'wilson', 'mg', 'x', 'codeine', 'wilson', 'mg', 'x', 'freeviagra', 'pills', 'codeine', 'wilson', 'mg', 'x', 'freeviagra', 'pills', 'codeine', 'wilson', 'mg', 'x', 'freeviagra', 'pills'], ['online', 'watchesstore', 'discount', 'watches', 'famous', 'brands', 'watches', 'arolexbvlgari', 'dior', 'hermes', 'oris', 'cartier', 'ap', 'brands', 'louis', 'vuitton', 'bags', 'wallets', 'gucci', 'bags', 'tiffany', 'jewerly', 'enjoy', 'year', 'warranty', 'shipment', 'reputable', 'courier', 'fedex', 'ups', 'dhl', 'ems', 'speedpost', 'recieve', 'order', 'save', 'quality', 'watches'], ['hydrocodonevicodin', 'esbrand', 'watson', 'vicodin', 'es', 'mg', 'brand', 'watson', 'mg', 'brand', 'watson', 'mg', 'noprescription', 'required', 'free', 'express', 'fedex', 'days', 'delivery', 'order', 'major', 'credit', 'cards', 'echeck'], ['online', 'watchesstore', 'discount', 'watches', 'famous', 'brands', 'watches', 'arolexbvlgari', 'dior', 'hermes', 'oris', 'cartier', 'ap', 'brands', 'louis', 'vuitton', 'bags', 'wallets', 'gucci', 'bags', 'tiffany', 'jewerly', 'enjoy', 'year', 'warranty', 'shipment', 'reputable', 'courier', 'fedex', 'ups', 'dhl', 'ems', 'speedpost', 'recieve', 'order'], ['percocet', 'mg', 'withoutprescription', 'tabs', 'percocet', 'narcotic', 'analgesic', 'used', 'treat', 'moderate', 'moderately', 'severepain', 'quality', 'express', 'shipping', 'safe', 'discreet', 'private', 'buy', 'cheap', 'percocet', 'online'], ['online', 'watchesstore', 'discount', 'watches', 'famous', 'brands', 'watches', 'arolexbvlgari', 'dior', 'hermes', 'oris', 'cartier', 'ap', 'brands', 'louis', 'vuitton', 'bags', 'wallets', 'gucci', 'bags', 'tiffany', 'jewerly', 'enjoy', 'year', 'warranty', 'shipment', 'reputable', 'courier', 'fedex', 'ups', 'dhl', 'ems', 'speedpost', 'recieve', 'order'], ['gain', 'incredibe', 'gains', 'length', 'inches', 'yourpenis', 'permanantly', 'amazing', 'increase', 'thickness', 'yourpenis', 'betterejacuation', 'control', 'experience', 'rockharderecetions', 'explosive', 'intenseorgasns', 'increase', 'volume', 'ofejacuate', 'doctor', 'designed', 'endorsed', 'herbal', 'natural', 'safe'], ['experience', 'biggerpenis', 'today', 'grow', 'inches', 'safest', 'effective', 'methods', 'ofpenisenargement', 'save', 'time', 'money', 'bettererections', 'effective', 'maeenhancement', 'products', 'maeenhancement', 'supplement', 'trusted', 'millions', 'buy', 'today'], ['gain', 'incredibe', 'gains', 'length', 'inches', 'yourpenis', 'permanantly', 'amazing', 'increase', 'thickness', 'yourpenis', 'betterejacuation', 'control', 'experience', 'rockharderecetions', 'explosive', 'intenseorgasns', 'increase', 'volume', 'ofejacuate', 'doctor', 'designed', 'endorsed', 'herbal', 'natural', 'safe', 'proven', 'naturalpenisenhancement', 'works', 'moneyback', 'guaranteeed'], ['codeine', 'mg', 'visa', 'codeine', 'methylmorphine', 'narcotic', 'opioid', 'pain', 'reliever', 'mg', 'mg', 'pills', 'mg', 'mg', 'mg', 'visa'], ['oem', 'adobe', 'microsoft', 'softwares', 'fast', 'order', 'download', 'microsoft', 'office', 'professional', 'plus', 'microsoft', 'windows', 'ultimate', 'adobe', 'photoshop', 'cs', 'extended', 'adobe', 'acrobat', 'pro', 'extended', 'windows', 'xp', 'professional', 'thousand', 'titles'], ['bargains', 'buy', 'phentermin', 'mg', 'k', 'buy', 'genuine', 'phentermin', 'low', 'cost', 'visa', 'accepted'], ['gain', 'incredibe', 'gains', 'length', 'inches', 'yourpenis', 'permanantly', 'amazing', 'increase', 'thickness', 'yourpenis', 'betterejacuation', 'control', 'experience', 'rockharderecetions', 'explosive', 'intenseorgasns', 'increase', 'volume', 'ofejacuate', 'doctor', 'designed', 'endorsed', 'herbal', 'natural', 'safe'], ['bargains', 'buy', 'phentermin', 'mg', 'k', 'buy', 'genuine', 'phentermin', 'low', 'cost', 'visa', 'accepted']]\n"
     ]
    }
   ],
   "source": [
    "ham_email_list = preprocess(\"data/ham\")\n",
    "spam_email_list = preprocess(\"data/spam\")\n",
    "print(spam_email_list)"
   ]
  },
  {
   "cell_type": "code",
   "execution_count": 5,
   "metadata": {},
   "outputs": [
    {
     "name": "stdout",
     "output_type": "stream",
     "text": [
      "{'pharmacy': 0, 'announcement': 1, 'thing': 1, 'tickets': 1, 'reply': 2, 'stepp': 1, 'trip': 1, 'experts': 0, 'arolexbvlgari': 0, 'save': 0, 'expertise': 1, 'pills': 0, 'ferguson': 1, 'gpu': 1, 'design': 1, 'warranty': 0, 'thousand': 0, 'financial': 0, 'john': 1, 'microsoft': 0, 'httpwwwborderscomonlinestorestoredetailview': 1, 'mba': 1, 'approach': 1, 'china': 1, 'died': 1, 'analgesic': 0, 'famous': 0, 'httpdocsgooglecomsupportbinanswerpyhlenanswer': 1, 'regards': 1, 'station': 1, 'ups': 0, 'possible': 1, 'u': 1, 'fbi': 1, 'withoutprescription': 0, 'endorsed': 0, 'mathematician': 1, 'bad': 1, 'serial': 1, 'supporting': 1, 'programming': 1, 'm': 1, 'just': 2, 'assigning': 1, 'vuitton': 0, 'jqplot': 1, 'httpwwwgooglecomsupportsitesbinanswerpyhlenanswer': 1, 'jpgs': 1, 'ap': 0, 'mgmg': 0, 'blue': 1, 'strategy': 1, 'inspired': 1, 'art': 1, 'works': 0, 'x': 1, 'functionalities': 1, 'code': 1, 'guy': 1, 'extended': 1, 'uses': 1, 'supplement': 0, 'pain': 0, 'jewerly': 0, 'derivatives': 1, 'tesla': 1, 'butt': 1, 'shipment': 0, 'use': 1, 'linkedin': 2, 'buy': 0, 'mandatory': 1, 'school': 1, 'ones': 2, 'nvidia': 1, 'told': 1, 'giants': 1, 'hermes': 0, 'changing': 1, 'gas': 1, 'enjoy': 1, 'status': 3, 'products': 1, 'faster': 1, 'earn': 0, 'contact': 1, 'easily': 1, 'message': 2, 'recieve': 0, 'listed': 1, 'femaleviagra': 0, 'yo': 1, 'certified': 0, 'color': 1, 'changes': 1, 'hotels': 1, 'hold': 1, 'methods': 0, 'major': 0, 'thanks': 1, 'cuda': 1, 'dhl': 0, 'father': 1, 'got': 2, 'tent': 1, 'wednesday': 1, 'car': 1, 'ready': 1, 'instead': 1, 'oris': 0, 'note': 1, 'troy': 1, 'definitely': 1, 'scenic': 2, 'rain': 1, 'phentermin': 0, 'knew': 1, 'forward': 1, 'visa': 0, 'members': 1, 'specifications': 1, 'yourpenis': 0, 'good': 4, 'heard': 1, 'ill': 1, 'price': 0, 'release': 1, 'web': 1, 'ofejacuate': 0, 'intenseorgasns': 0, 'gpuenabled': 1, 'february': 1, 'strategic': 1, 'today': 1, 'reservation': 1, 'express': 0, 'having': 1, 'hi': 4, 'sky': 1, 'individual': 1, 'network': 1, 'girls': 1, 'freeviagra': 0, 'bags': 0, 'favorite': 1, 'expo': 1, 'plane': 1, 'bargains': 0, 'highlevel': 1, 'tokyo': 1, 'share': 1, 'phone': 1, 'delivery': 0, 'automatically': 1, 'noprescription': 0, 'huge': 1, 'coastthought': 1, 'received': 1, 'suggest': 1, 'holiday': 1, 'ok': 1, 'methylmorphine': 0, 'moderate': 0, 'fine': 1, 'cartier': 0, 'jquery': 1, 'update': 1, 'connection': 2, 'maeenhancement': 0, 'creative': 1, 'source': 1, 'focus': 1, 'hangzhou': 1, 'business': 0, 'python': 1, 'view': 2, 'does': 1, 'im': 2, 'tool': 1, 'risk': 1, 'lunch': 1, 'address': 1, 'doctor': 0, 'file': 1, 'glimpse': 1, 'edit': 1, 'rude': 0, 'rightbrained': 1, 'placed': 1, 'watson': 0, 'effective': 0, 'o': 1, 'canadian': 0, 'launch': 1, 'held': 1, 'wrote': 3, 'fundamental': 1, 'jocelyn': 1, 'wilson': 0, 'plugin': 1, 'province': 1, 'watchesstore': 0, 'differ': 1, 'grow': 0, 'commented': 3, 'time': 3, 'doggy': 1, 'youe': 1, 'style': 1, 'development': 1, 'length': 0, 'incredibe': 0, 'percocet': 0, 'working': 2, 'cost': 0, 'advocate': 1, 'grounds': 1, 'genuine': 0, 'fans': 1, 'thread': 1, 'owner': 1, 'store': 2, 'learn': 0, 'knocking': 0, 'computer': 1, 'discussions': 1, 'right': 1, 'explosive': 0, 'trusted': 0, 'moneyback': 0, 'came': 1, 'year': 1, 'peter': 6, 'exhibit': 1, 'modelling': 1, 'worldwide': 0, 'cold': 2, 'shape': 1, 'codeine': 0, 'forum': 1, 'cs': 0, 'running': 1, 'featured': 1, 'program': 1, 'writing': 1, 'hope': 1, 'net': 0, 'train': 1, 'sure': 1, 'income': 0, 'buyviagra': 0, 'accepted': 0, 'carlo': 1, 'pavilion': 1, 'private': 0, 'echeck': 0, 'cheers': 1, 'try': 2, 'items': 1, 'opportunity': 0, 'ofpenisenargement': 0, 'k': 0, 'permanantly': 0, 'page': 1, 'selected': 1, 'away': 1, 'includes': 1, 'volume': 0, 'invitation': 1, 'thats': 1, 'job': 1, 'thailand': 1, 'sounds': 1, 'winter': 1, 'copy': 1, 'success': 0, 'tiffany': 0, 'transformed': 0, 'nature': 1, 'fdaapproved': 0, 'create': 1, 'millions': 0, 'jay': 1, 'day': 2, 'guaranteeed': 0, 'questions': 1, 'important': 1, 'retirement': 1, 'natural': 0, 'ultimate': 0, 'location': 1, 'issues': 1, 'mg': 0, 'quantitative': 1, 'care': 1, 'mandarin': 1, 'door': 0, 'work': 2, 'softwares': 0, 'wilmott': 1, 'haloney': 1, 'inches': 0, 'speedpost': 0, 'runs': 1, 'link': 1, 'wasnt': 1, 'leaves': 1, 'treat': 0, 'credit': 0, 'item': 1, 'discount': 0, 'based': 0, 'cc': 1, 'comment': 1, 'core': 1, 'upload': 1, 'th': 1, 'mailing': 1, 'prepared': 1, 'kerry': 1, 'd': 2, 'nline': 0, 'vicodin': 0, 'great': 0, 'horn': 1, 'jar': 1, 'zach': 1, 'moderately': 0, 'superb': 0, 'saw': 1, 'chance': 0, 'pill': 0, 'experience': 0, 'pick': 1, 'going': 3, 'google': 1, 'dior': 0, 'watches': 0, 'magazine': 1, 'ambiem': 0, 'biggerpenis': 0, 'courier': 0, 'yay': 1, 'book': 3, 'improving': 1, 'julius': 1, 'inform': 1, 'model': 1, 'notificationonly': 1, 'windows': 0, 'cards': 0, 'needed': 0, 'food': 1, 'plus': 0, 'past': 1, 'dozen': 1, 'insights': 1, 'doing': 2, 'management': 1, 'game': 1, 'rockharderecetions': 0, 'mathematics': 1, 'generates': 1, 'narcotic': 0, 'quality': 0, 'capabilities': 1, 'october': 1, 'starting': 1, 'storage': 1, 'attaching': 1, 'monte': 1, 'viagranoprescription': 0, 'reliever': 0, 'follow': 1, 'wallets': 0, 'sophisticated': 1, 'hydrocodonevicodin': 0, 'sf': 1, 'add': 2, 'lists': 1, 'features': 1, 'id': 1, 'couple': 1, 'don': 0, 'xp': 0, 'brands': 0, 'oem': 0, 'money': 0, 'ryan': 1, 'york': 1, 'access': 2, 'photoshop': 0, 'scifinances': 1, 'decision': 1, 'groups': 2, 'party': 1, 'way': 2, 'fast': 0, 'increase': 0, 'professional': 1, 'automatic': 1, 'series': 1, 'prototype': 1, 'email': 4, 'need': 1, 'files': 1, 'longer': 1, 'drugs': 0, 'tour': 1, 'proven': 0, 'finder': 0, 'thickness': 0, 'cheap': 0, 'cca': 1, 'site': 1, 'riding': 1, 'encourage': 1, 'like': 4, 'team': 1, 'amex': 0, 'pictures': 1, 'gucci': 0, 'ive': 2, 'bike': 1, 'drunk': 1, 'example': 1, 'docs': 1, 'benoit': 1, 'incoming': 1, 'gains': 0, 'sites': 1, 'competitive': 0, 'required': 1, 'chapter': 1, 'inside': 1, 'hamm': 1, 'place': 1, 'pretty': 1, 'come': 3, 'check': 1, 'yesterday': 1, 'hello': 1, 'office': 0, 'welcome': 1, 'concise': 1, 'using': 2, 'pages': 1, 'prices': 1, 'ordercializviagra': 0, 'aged': 1, 'think': 2, 'information': 1, 'safe': 0, 'hotel': 1, 'herbal': 0, 'latest': 2, 'bettererections': 0, 'articles': 1, 'germany': 1, 'titles': 0, 'generation': 1, 'brand': 0, 'esbrand': 0, 'computing': 1, 'lined': 1, 'number': 1, 'used': 1, 'new': 3, 'focusing': 1, 'free': 1, 'brandviagra': 0, 'ems': 0, 'accept': 2, 'pro': 0, 'looking': 2, 'naturalpenisenhancement': 0, 'creation': 1, 'acrobat': 0, 'far': 1, 'opioid': 0, 'fedex': 0, 'safest': 0, 'download': 1, 'parallel': 1, 'turd': 1, 'service': 1, 'museum': 1, 'betterejacuation': 0, 'customized': 1, 'sent': 1, 'fermiclass': 1, 'shipping': 0, 'order': 0, 'let': 1, 'gain': 0, 'wholesale': 0, 'scifinance': 1, 'designed': 1, 'tabs': 0, 'night': 1, 'home': 0, 'rent': 1, 'thank': 2, 'know': 1, 'pricing': 1, 'hours': 1, 'severepain': 0, 'located': 1, 'yeah': 1, 'group': 1, 'fractal': 1, 'louis': 0, 'said': 1, 'days': 0, 'requested': 3, 'mom': 1, 'whybrew': 1, 'es': 0, 'vivek': 1, 'talked': 1, 'stuff': 1, 'control': 0, 'went': 2, 'specifically': 1, 'mandelbrot': 1, 'amazing': 0, 'low': 0, 'interesting': 1, 'ideas': 2, 'significantly': 1, 'online': 1, 'thought': 1, 'chinese': 1, 'signed': 1, 'finance': 1, 'adobe': 0, 'website': 1, 'assistance': 1, 'life': 0, 'logged': 1, 'discreet': 0, 'reputable': 0, 'zolpidem': 0}\n"
     ]
    }
   ],
   "source": [
    "def get_ham_dic(ham_email_list,spam_email_list):\n",
    "    word_set = set()\n",
    "\n",
    "    # 记录所有种类的单词，正常邮件和垃圾邮件种类的单词\n",
    "\n",
    "    for email in ham_email_list:\n",
    "        for word in email:\n",
    "            word_set.add(word)\n",
    "    for email in spam_email_list:\n",
    "        for word in email:\n",
    "            word_set.add(word)\n",
    "    # 计算每个词在正常邮件出现的次数\n",
    "\n",
    "    word_dict = {}\n",
    "\n",
    "    for word in word_set:\n",
    "        word_dict[word] = 0\n",
    "\n",
    "        for email in ham_email_list:\n",
    "            for word1 in email:\n",
    "                if (word==word1):\n",
    "                    \n",
    "                    word_dict[word]+=1\n",
    "                    break\n",
    "    return word_dict\n",
    "\n",
    "ham_w_dict = get_ham_dic(ham_email_list,spam_email_list)\n",
    "print(ham_w_dict)\n",
    "\n"
   ]
  },
  {
   "cell_type": "code",
   "execution_count": 6,
   "metadata": {},
   "outputs": [
    {
     "name": "stdout",
     "output_type": "stream",
     "text": [
      "{'pharmacy': 3, 'announcement': 0, 'thing': 0, 'tickets': 0, 'reply': 0, 'stepp': 0, 'trip': 0, 'experts': 1, 'arolexbvlgari': 3, 'save': 4, 'expertise': 0, 'pills': 4, 'ferguson': 0, 'gpu': 0, 'design': 0, 'warranty': 3, 'thousand': 1, 'financial': 1, 'john': 0, 'microsoft': 1, 'httpwwwborderscomonlinestorestoredetailview': 0, 'mba': 0, 'approach': 0, 'china': 0, 'died': 0, 'analgesic': 1, 'famous': 3, 'httpdocsgooglecomsupportbinanswerpyhlenanswer': 0, 'regards': 0, 'station': 0, 'ups': 3, 'possible': 0, 'u': 0, 'fbi': 0, 'withoutprescription': 1, 'endorsed': 5, 'mathematician': 0, 'bad': 0, 'serial': 0, 'supporting': 0, 'programming': 0, 'm': 0, 'just': 0, 'assigning': 0, 'vuitton': 3, 'jqplot': 0, 'httpwwwgooglecomsupportsitesbinanswerpyhlenanswer': 0, 'jpgs': 0, 'ap': 3, 'mgmg': 1, 'blue': 0, 'strategy': 0, 'inspired': 0, 'art': 0, 'works': 2, 'x': 2, 'functionalities': 0, 'code': 0, 'guy': 0, 'extended': 1, 'uses': 0, 'supplement': 1, 'pain': 2, 'jewerly': 3, 'derivatives': 0, 'tesla': 0, 'butt': 0, 'shipment': 3, 'use': 0, 'linkedin': 0, 'buy': 8, 'mandatory': 0, 'school': 0, 'ones': 0, 'nvidia': 0, 'told': 0, 'giants': 0, 'hermes': 3, 'changing': 0, 'gas': 0, 'enjoy': 3, 'status': 0, 'products': 1, 'faster': 0, 'earn': 1, 'contact': 0, 'easily': 0, 'message': 0, 'recieve': 3, 'listed': 0, 'femaleviagra': 1, 'yo': 0, 'certified': 1, 'color': 0, 'changes': 0, 'hotels': 0, 'hold': 0, 'methods': 1, 'major': 3, 'thanks': 0, 'cuda': 0, 'dhl': 3, 'father': 0, 'got': 0, 'tent': 0, 'wednesday': 0, 'car': 0, 'ready': 0, 'instead': 0, 'oris': 3, 'note': 0, 'troy': 0, 'definitely': 0, 'scenic': 0, 'rain': 0, 'phentermin': 2, 'knew': 0, 'forward': 0, 'visa': 5, 'members': 0, 'specifications': 0, 'yourpenis': 5, 'good': 0, 'heard': 0, 'ill': 0, 'price': 1, 'release': 0, 'web': 0, 'ofejacuate': 5, 'intenseorgasns': 5, 'gpuenabled': 0, 'february': 0, 'strategic': 0, 'today': 2, 'reservation': 0, 'express': 2, 'having': 0, 'hi': 0, 'sky': 0, 'individual': 0, 'network': 0, 'girls': 0, 'freeviagra': 1, 'bags': 3, 'favorite': 0, 'expo': 0, 'plane': 0, 'bargains': 2, 'highlevel': 0, 'tokyo': 0, 'share': 0, 'phone': 0, 'delivery': 2, 'automatically': 0, 'noprescription': 3, 'huge': 0, 'coastthought': 0, 'received': 0, 'suggest': 0, 'holiday': 0, 'ok': 0, 'methylmorphine': 2, 'moderate': 1, 'fine': 0, 'cartier': 3, 'jquery': 0, 'update': 0, 'connection': 0, 'maeenhancement': 1, 'creative': 0, 'source': 0, 'focus': 0, 'hangzhou': 0, 'business': 1, 'python': 0, 'view': 0, 'does': 0, 'im': 0, 'tool': 0, 'risk': 0, 'lunch': 0, 'address': 0, 'doctor': 5, 'file': 0, 'glimpse': 0, 'edit': 0, 'rude': 1, 'rightbrained': 0, 'placed': 0, 'watson': 1, 'effective': 1, 'o': 0, 'canadian': 3, 'launch': 0, 'held': 0, 'wrote': 0, 'fundamental': 0, 'jocelyn': 0, 'wilson': 1, 'plugin': 0, 'province': 0, 'watchesstore': 3, 'differ': 0, 'grow': 1, 'commented': 0, 'time': 1, 'doggy': 0, 'youe': 0, 'style': 0, 'development': 0, 'length': 5, 'incredibe': 5, 'percocet': 1, 'working': 0, 'cost': 2, 'advocate': 0, 'grounds': 0, 'genuine': 2, 'fans': 0, 'thread': 0, 'owner': 0, 'store': 0, 'learn': 1, 'knocking': 1, 'computer': 0, 'discussions': 0, 'right': 0, 'explosive': 5, 'trusted': 1, 'moneyback': 2, 'came': 0, 'year': 3, 'peter': 0, 'exhibit': 0, 'modelling': 0, 'worldwide': 1, 'cold': 0, 'shape': 0, 'codeine': 3, 'forum': 0, 'cs': 1, 'running': 0, 'featured': 0, 'program': 0, 'writing': 0, 'hope': 0, 'net': 1, 'train': 0, 'sure': 0, 'income': 1, 'buyviagra': 1, 'accepted': 2, 'carlo': 0, 'pavilion': 0, 'private': 1, 'echeck': 2, 'cheers': 0, 'try': 0, 'items': 0, 'opportunity': 1, 'ofpenisenargement': 1, 'k': 2, 'permanantly': 5, 'page': 0, 'selected': 0, 'away': 0, 'includes': 0, 'volume': 5, 'invitation': 0, 'thats': 0, 'job': 0, 'thailand': 0, 'sounds': 0, 'winter': 0, 'copy': 0, 'success': 1, 'tiffany': 3, 'transformed': 1, 'nature': 0, 'fdaapproved': 2, 'create': 0, 'millions': 1, 'jay': 0, 'day': 0, 'guaranteeed': 2, 'questions': 0, 'important': 0, 'retirement': 0, 'natural': 5, 'ultimate': 1, 'location': 0, 'issues': 0, 'mg': 9, 'quantitative': 0, 'care': 0, 'mandarin': 0, 'door': 1, 'work': 1, 'softwares': 1, 'wilmott': 0, 'haloney': 0, 'inches': 6, 'speedpost': 3, 'runs': 0, 'link': 0, 'wasnt': 0, 'leaves': 0, 'treat': 1, 'credit': 3, 'item': 0, 'discount': 3, 'based': 1, 'cc': 0, 'comment': 0, 'core': 0, 'upload': 0, 'th': 0, 'mailing': 0, 'prepared': 0, 'kerry': 0, 'd': 0, 'nline': 2, 'vicodin': 1, 'great': 1, 'horn': 0, 'jar': 0, 'zach': 0, 'moderately': 1, 'superb': 2, 'saw': 0, 'chance': 1, 'pill': 2, 'experience': 6, 'pick': 0, 'going': 0, 'google': 0, 'dior': 3, 'watches': 3, 'magazine': 0, 'ambiem': 1, 'biggerpenis': 1, 'courier': 3, 'yay': 0, 'book': 0, 'improving': 0, 'julius': 0, 'inform': 0, 'model': 0, 'notificationonly': 0, 'windows': 1, 'cards': 3, 'needed': 1, 'food': 0, 'plus': 1, 'past': 0, 'dozen': 0, 'insights': 0, 'doing': 0, 'management': 0, 'game': 0, 'rockharderecetions': 5, 'mathematics': 0, 'generates': 0, 'narcotic': 3, 'quality': 4, 'capabilities': 0, 'october': 0, 'starting': 0, 'storage': 0, 'attaching': 0, 'monte': 0, 'viagranoprescription': 1, 'reliever': 2, 'follow': 0, 'wallets': 3, 'sophisticated': 0, 'hydrocodonevicodin': 1, 'sf': 0, 'add': 0, 'lists': 0, 'features': 0, 'id': 0, 'couple': 0, 'don': 1, 'xp': 1, 'brands': 3, 'oem': 1, 'money': 1, 'ryan': 0, 'york': 0, 'access': 0, 'photoshop': 1, 'scifinances': 0, 'decision': 0, 'groups': 0, 'party': 0, 'way': 0, 'fast': 1, 'increase': 5, 'professional': 1, 'automatic': 0, 'series': 0, 'prototype': 0, 'email': 0, 'need': 0, 'files': 0, 'longer': 0, 'drugs': 2, 'tour': 0, 'proven': 2, 'finder': 1, 'thickness': 5, 'cheap': 1, 'cca': 0, 'site': 0, 'riding': 0, 'encourage': 0, 'like': 0, 'team': 0, 'amex': 1, 'pictures': 0, 'gucci': 3, 'ive': 0, 'bike': 0, 'drunk': 0, 'example': 0, 'docs': 0, 'benoit': 0, 'incoming': 0, 'gains': 5, 'sites': 0, 'competitive': 1, 'required': 3, 'chapter': 0, 'inside': 0, 'hamm': 0, 'place': 0, 'pretty': 0, 'come': 0, 'check': 0, 'yesterday': 0, 'hello': 0, 'office': 1, 'welcome': 0, 'concise': 0, 'using': 0, 'pages': 0, 'prices': 2, 'ordercializviagra': 2, 'aged': 0, 'think': 0, 'information': 0, 'safe': 6, 'hotel': 0, 'herbal': 5, 'latest': 0, 'bettererections': 1, 'articles': 0, 'germany': 0, 'titles': 1, 'generation': 0, 'brand': 1, 'esbrand': 1, 'computing': 0, 'lined': 0, 'number': 0, 'used': 1, 'new': 0, 'focusing': 0, 'free': 1, 'brandviagra': 1, 'ems': 3, 'accept': 3, 'pro': 1, 'looking': 0, 'naturalpenisenhancement': 2, 'creation': 0, 'acrobat': 1, 'far': 0, 'opioid': 2, 'fedex': 4, 'safest': 1, 'download': 1, 'parallel': 0, 'turd': 0, 'service': 0, 'museum': 0, 'betterejacuation': 5, 'customized': 0, 'sent': 0, 'fermiclass': 0, 'shipping': 1, 'order': 6, 'let': 1, 'gain': 5, 'wholesale': 2, 'scifinance': 0, 'designed': 5, 'tabs': 1, 'night': 0, 'home': 1, 'rent': 0, 'thank': 0, 'know': 0, 'pricing': 0, 'hours': 0, 'severepain': 1, 'located': 0, 'yeah': 0, 'group': 0, 'fractal': 0, 'louis': 3, 'said': 0, 'days': 1, 'requested': 0, 'mom': 0, 'whybrew': 0, 'es': 1, 'vivek': 0, 'talked': 0, 'stuff': 0, 'control': 5, 'went': 0, 'specifically': 0, 'mandelbrot': 0, 'amazing': 5, 'low': 2, 'interesting': 0, 'ideas': 0, 'significantly': 0, 'online': 6, 'thought': 0, 'chinese': 0, 'signed': 0, 'finance': 0, 'adobe': 1, 'website': 0, 'assistance': 0, 'life': 1, 'logged': 0, 'discreet': 1, 'reputable': 3, 'zolpidem': 1}\n"
     ]
    }
   ],
   "source": [
    "def get_spam_dic(ham_email_list,spam_email_list):\n",
    "    all_words = []\n",
    "    word_set = set()\n",
    "    # 记录所有种类的单词，正常邮件和垃圾邮件种类的单词\n",
    "    for email in ham_email_list:\n",
    "        for word in email:\n",
    "            word_set.add(word)\n",
    "    for email in spam_email_list:\n",
    "        for word in email:\n",
    "            word_set.add(word)\n",
    "    \n",
    "    # 计算每个词在垃圾邮件出现的次数\n",
    "\n",
    "    word_dict = {}\n",
    "\n",
    "    for word in word_set:\n",
    "        word_dict[word] = 0\n",
    "\n",
    "        for email in spam_email_list:\n",
    "            for word1 in email:\n",
    "                if (word==word1):\n",
    "                    \n",
    "                    word_dict[word]+=1\n",
    "                    break\n",
    "    return word_dict\n",
    "\n",
    "spam_w_dict = get_spam_dic(ham_email_list,spam_email_list)\n",
    "print(spam_w_dict)\n",
    "\n"
   ]
  },
  {
   "cell_type": "code",
   "execution_count": 7,
   "metadata": {},
   "outputs": [],
   "source": [
    "# 计算在正常邮件中出现的概率\n",
    "def get_ham_rate(filename,ham_w_dict):\n",
    "    with open(filename,mode=\"r\") as f:\n",
    "        content = f.read()\n",
    "        content = clear_content(content)\n",
    "    test_set = set()\n",
    "    for word in content:\n",
    "        test_set.add(word)\n",
    "    \n",
    "    ham_email_num = len(os.listdir(f\"data/ham\"))\n",
    "    # 记录每个词的数目\n",
    "    ham_num = []\n",
    "    for x in test_set:\n",
    "        for w in ham_w_dict:\n",
    "            if x==w:\n",
    "                ham_num.append(ham_w_dict[w])\n",
    "    \n",
    "    # 拉普拉斯平滑\n",
    "    laplasi = 1\n",
    "    # 这里采用了加法，因为乘法会过小，相当于用到了log，后面会有体现\n",
    "    for num in ham_num:\n",
    "        laplasi += num\n",
    "    ham_rate = laplasi/(ham_email_num+2)\n",
    "    return ham_rate\n",
    " \n",
    "\n",
    "\n"
   ]
  },
  {
   "cell_type": "code",
   "execution_count": 8,
   "metadata": {},
   "outputs": [],
   "source": [
    "# 计算在正常邮件中出现的概率\n",
    "def get_spam_rate(filename,spam_w_dict):\n",
    "    with open(filename,mode=\"r\") as f:\n",
    "        content = f.read()\n",
    "        content = clear_content(content)\n",
    "    test_set = set()\n",
    "    for word in content:\n",
    "        test_set.add(word)\n",
    "    \n",
    "    spam_email_num = len(os.listdir(f\"data/spam\"))\n",
    "    # 记录每个词的数目\n",
    "    spam_num = []\n",
    "    for x in test_set:\n",
    "        for w in spam_w_dict:\n",
    "            if x==w:\n",
    "                spam_num.append(spam_w_dict[w])\n",
    "    \n",
    "    # 拉普拉斯平滑\n",
    "    laplasi = 1\n",
    "    # 这里采用了加法，因为乘法会过小，相当于用到了log，后面会有体现\n",
    "    for num in spam_num:\n",
    "        laplasi += num\n",
    "    spam_rate = laplasi/(spam_email_num+2)\n",
    "    return spam_rate\n",
    " \n"
   ]
  },
  {
   "cell_type": "code",
   "execution_count": null,
   "metadata": {},
   "outputs": [],
   "source": [
    "def email_divide(folderpath):\n",
    "\n",
    "    for filename in os.listdir(folderpath):\n",
    "        file_path = os.path.join(folderpath,filename)\n",
    "        print(f\"{file_path}\")\n",
    "        ham = get_ham_rate(file_path,ham_w_dict)+ np.log(1 / 2)\n",
    "        spam = get_spam_rate(file_path,spam_w_dict)+ np.log(1 / 2)\n",
    "         if spam > ham:\n",
    "            print('p1>p2，所以是垃圾邮件.')\n",
    "        else:\n",
    "            print('p1<p2，所以是正常邮件.')\n"
   ]
  }
 ],
 "metadata": {
  "kernelspec": {
   "display_name": "pytouch_11.6",
   "language": "python",
   "name": "python3"
  },
  "language_info": {
   "codemirror_mode": {
    "name": "ipython",
    "version": 3
   },
   "file_extension": ".py",
   "mimetype": "text/x-python",
   "name": "python",
   "nbconvert_exporter": "python",
   "pygments_lexer": "ipython3",
   "version": "3.9.17"
  }
 },
 "nbformat": 4,
 "nbformat_minor": 2
}
